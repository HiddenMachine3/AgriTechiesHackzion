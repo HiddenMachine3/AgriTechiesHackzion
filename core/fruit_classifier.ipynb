{
 "cells": [
  {
   "cell_type": "code",
   "execution_count": 22,
   "metadata": {},
   "outputs": [],
   "source": [
    "import tensorflow as tf\n",
    "import numpy as np\n",
    "import os\n",
    "from tensorflow.keras.optimizers import SGD"
   ]
  },
  {
   "cell_type": "code",
   "execution_count": 23,
   "metadata": {},
   "outputs": [
    {
     "name": "stdout",
     "output_type": "stream",
     "text": [
      "Found 27 images belonging to 3 classes.\n",
      "Found 117 images belonging to 3 classes.\n"
     ]
    }
   ],
   "source": [
    "IMAGE_SHAPE = (224, 224)\n",
    "TRAINING_DATA_DIR = \"../data/ripeness_classification/apple/train\"  # os.path.abspath(\"media\")\n",
    "\n",
    "datagen_kwargs = dict(rescale=1.0 / 255, validation_split=0.20)\n",
    "valid_datagen = tf.keras.preprocessing.image.ImageDataGenerator(**datagen_kwargs)\n",
    "valid_generator = valid_datagen.flow_from_directory(\n",
    "    TRAINING_DATA_DIR, subset=\"validation\", target_size=IMAGE_SHAPE\n",
    ")\n",
    "\n",
    "train_datagen = tf.keras.preprocessing.image.ImageDataGenerator(**datagen_kwargs)\n",
    "train_generator = train_datagen.flow_from_directory(\n",
    "    TRAINING_DATA_DIR, subset=\"training\", target_size=IMAGE_SHAPE\n",
    ")"
   ]
  },
  {
   "cell_type": "code",
   "execution_count": 24,
   "metadata": {},
   "outputs": [
    {
     "name": "stdout",
     "output_type": "stream",
     "text": [
      "WARNING:tensorflow:`input_shape` is undefined or non-square, or `rows` is not in [96, 128, 160, 192, 224]. Weights for input shape (224, 224) will be loaded as the default.\n"
     ]
    },
    {
     "name": "stderr",
     "output_type": "stream",
     "text": [
      "WARNING:tensorflow:`input_shape` is undefined or non-square, or `rows` is not in [96, 128, 160, 192, 224]. Weights for input shape (224, 224) will be loaded as the default.\n"
     ]
    },
    {
     "name": "stdout",
     "output_type": "stream",
     "text": [
      "Epoch 1/5\n",
      "4/4 [==============================] - 9s 1s/step - loss: 4.6629 - accuracy: 0.3590 - val_loss: 1.1649 - val_accuracy: 0.6296\n",
      "Epoch 2/5\n",
      "4/4 [==============================] - 2s 612ms/step - loss: 0.4674 - accuracy: 0.8291 - val_loss: 0.5669 - val_accuracy: 0.8519\n",
      "Epoch 3/5\n",
      "4/4 [==============================] - 2s 578ms/step - loss: 0.2181 - accuracy: 0.9145 - val_loss: 0.6956 - val_accuracy: 0.7037\n",
      "Epoch 4/5\n",
      "4/4 [==============================] - 2s 570ms/step - loss: 0.1330 - accuracy: 0.9487 - val_loss: 0.6496 - val_accuracy: 0.6667\n",
      "Epoch 5/5\n",
      "4/4 [==============================] - 2s 682ms/step - loss: 0.0589 - accuracy: 0.9915 - val_loss: 0.5468 - val_accuracy: 0.7778\n"
     ]
    }
   ],
   "source": [
    "from tensorflow.keras.applications.mobilenet_v2 import MobileNetV2\n",
    "from tensorflow.keras.preprocessing import image\n",
    "from tensorflow.keras.models import Model\n",
    "from tensorflow.keras.layers import Dense, GlobalAveragePooling2D\n",
    "\n",
    "# create the base pre-trained model\n",
    "base_model = MobileNetV2(weights='imagenet', include_top=False)\n",
    "\n",
    "# add a global spatial average pooling layer\n",
    "x = base_model.output\n",
    "x = GlobalAveragePooling2D()(x)\n",
    "# let's add a fully-connected layer\n",
    "x = Dense(1024, activation='relu')(x)\n",
    "# and a logistic layer -- let's say we have 3 classes\n",
    "predictions = Dense(3, activation='softmax')(x)  # Update the number of classes here\n",
    "\n",
    "# this is the model we will train\n",
    "model = Model(inputs=base_model.input, outputs=predictions)\n",
    "\n",
    "# first: train only the top layers (which were randomly initialized)\n",
    "# i.e. freeze all convolutional InceptionV3 layers\n",
    "for layer in base_model.layers:\n",
    "    layer.trainable = False\n",
    "\n",
    "# compile the model (should be done *after* setting layers to non-trainable)\n",
    "model.compile(optimizer='rmsprop', loss='categorical_crossentropy',metrics=['accuracy'])\n",
    "\n",
    "\n",
    "steps_per_epoch = np.ceil(train_generator.samples/train_generator.batch_size)\n",
    "val_steps_per_epoch = np.ceil(valid_generator.samples/valid_generator.batch_size)\n",
    "\n",
    "hist = model.fit(train_generator, epochs=5, verbose=1,\n",
    "                    steps_per_epoch=steps_per_epoch,\n",
    "                    validation_data=valid_generator,\n",
    "                    validation_steps=val_steps_per_epoch).history"
   ]
  },
  {
   "cell_type": "code",
   "execution_count": 25,
   "metadata": {},
   "outputs": [
    {
     "name": "stderr",
     "output_type": "stream",
     "text": [
      "WARNING:absl:`lr` is deprecated in Keras optimizer, please use `learning_rate` or use the legacy optimizer, e.g.,tf.keras.optimizers.legacy.SGD.\n"
     ]
    }
   ],
   "source": [
    "for layer in model.layers[:125]:\n",
    "    layer.trainable = False\n",
    "for layer in model.layers[125:]:\n",
    "    layer.trainable = True\n",
    "\n",
    "\n",
    "model.compile(\n",
    "    optimizer=SGD(lr=0.0001, momentum=0.9),\n",
    "    loss=\"categorical_crossentropy\",\n",
    "    metrics=[\"accuracy\"],\n",
    ")"
   ]
  },
  {
   "cell_type": "code",
   "execution_count": 26,
   "metadata": {},
   "outputs": [
    {
     "name": "stdout",
     "output_type": "stream",
     "text": [
      "Epoch 1/5\n",
      "4/4 [==============================] - 14s 2s/step - loss: 0.5678 - accuracy: 0.8034 - val_loss: 1.9911 - val_accuracy: 0.5926\n",
      "Epoch 2/5\n",
      "4/4 [==============================] - 3s 928ms/step - loss: 0.2960 - accuracy: 0.8718 - val_loss: 0.9030 - val_accuracy: 0.7778\n",
      "Epoch 3/5\n",
      "4/4 [==============================] - 3s 834ms/step - loss: 0.0227 - accuracy: 1.0000 - val_loss: 0.4823 - val_accuracy: 0.7778\n",
      "Epoch 4/5\n",
      "4/4 [==============================] - 3s 843ms/step - loss: 0.0280 - accuracy: 0.9829 - val_loss: 0.5409 - val_accuracy: 0.7778\n",
      "Epoch 5/5\n",
      "4/4 [==============================] - 3s 868ms/step - loss: 0.0225 - accuracy: 0.9915 - val_loss: 0.6540 - val_accuracy: 0.7778\n"
     ]
    }
   ],
   "source": [
    "steps_per_epoch = np.ceil(train_generator.samples/train_generator.batch_size)\n",
    "val_steps_per_epoch = np.ceil(valid_generator.samples/valid_generator.batch_size)\n",
    "\n",
    "hist = model.fit(train_generator, epochs=5, verbose=1,\n",
    "                    steps_per_epoch=steps_per_epoch,\n",
    "                    validation_data=valid_generator,\n",
    "                    validation_steps=val_steps_per_epoch).history"
   ]
  },
  {
   "cell_type": "code",
   "execution_count": 27,
   "metadata": {},
   "outputs": [],
   "source": [
    "val_image_batch, val_label_batch = next(iter(valid_generator))\n",
    "true_label_ids = np.argmax(val_label_batch, axis=-1)"
   ]
  },
  {
   "cell_type": "code",
   "execution_count": 28,
   "metadata": {},
   "outputs": [
    {
     "name": "stdout",
     "output_type": "stream",
     "text": [
      "['Ripe' 'Rotten' 'Unripe']\n"
     ]
    }
   ],
   "source": [
    "dataset_labels = sorted(train_generator.class_indices.items(), key=lambda pair:pair[1])\n",
    "dataset_labels = np.array([key.title() for key, value in dataset_labels])\n",
    "print(dataset_labels)"
   ]
  },
  {
   "cell_type": "code",
   "execution_count": 29,
   "metadata": {},
   "outputs": [],
   "source": [
    "model.save_weights('../data/ripeness_classification/apple/weights/model_weights.h5')"
   ]
  },
  {
   "cell_type": "code",
   "execution_count": 30,
   "metadata": {},
   "outputs": [
    {
     "name": "stdout",
     "output_type": "stream",
     "text": [
      "1/1 [==============================] - 2s 2s/step\n",
      "Prediction results shape: (27, 3)\n"
     ]
    }
   ],
   "source": [
    "tf_model_predictions = model.predict(val_image_batch)\n",
    "print(\"Prediction results shape:\", tf_model_predictions.shape)"
   ]
  },
  {
   "cell_type": "code",
   "execution_count": 31,
   "metadata": {},
   "outputs": [
    {
     "name": "stdout",
     "output_type": "stream",
     "text": [
      "['Ripe' 'Ripe' 'Ripe' 'Ripe' 'Unripe' 'Rotten' 'Rotten' 'Unripe' 'Ripe'\n",
      " 'Rotten' 'Ripe' 'Unripe' 'Ripe' 'Unripe' 'Rotten' 'Ripe' 'Unripe' 'Ripe'\n",
      " 'Ripe' 'Rotten' 'Ripe' 'Unripe' 'Unripe' 'Ripe' 'Ripe' 'Unripe' 'Unripe']\n"
     ]
    }
   ],
   "source": [
    "predicted_ids = np.argmax(tf_model_predictions, axis=-1)\n",
    "predicted_labels = dataset_labels[predicted_ids]\n",
    "print(predicted_labels)"
   ]
  },
  {
   "cell_type": "code",
   "execution_count": null,
   "metadata": {},
   "outputs": [],
   "source": [
    "import matplotlib.pyplot as plt\n",
    "\n",
    "for n in range((len(predicted_labels)-2)):\n",
    "  plt.imshow(val_image_batch[n])\n",
    "  plt.title(predicted_labels[n].title())\n",
    "  plt.show()"
   ]
  }
 ],
 "metadata": {
  "kernelspec": {
   "display_name": ".venv",
   "language": "python",
   "name": "python3"
  },
  "language_info": {
   "codemirror_mode": {
    "name": "ipython",
    "version": 3
   },
   "file_extension": ".py",
   "mimetype": "text/x-python",
   "name": "python",
   "nbconvert_exporter": "python",
   "pygments_lexer": "ipython3",
   "version": "3.11.6"
  }
 },
 "nbformat": 4,
 "nbformat_minor": 2
}
