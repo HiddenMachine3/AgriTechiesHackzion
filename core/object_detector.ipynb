{
 "cells": [
  {
   "cell_type": "code",
   "execution_count": 1,
   "metadata": {},
   "outputs": [],
   "source": [
    "import numpy as np\n",
    "from ultralytics import YOLO\n",
    "import torch"
   ]
  },
  {
   "cell_type": "code",
   "execution_count": 2,
   "metadata": {},
   "outputs": [],
   "source": [
    "MODEL_WEIGHTS_PATH = r\"C:\\Projects\\AgriTechiesHackzion\\data\\weights\\best.pt\" # r\"C:\\Users\\25bak\\Projects\\AgriTechiesHackzion\\data\\weights\\yolov8m15.pt\" # r\"C:\\Projects\\AgriTechiesHackzion\\data\\weights\\yolov8m15.pt\""
   ]
  },
  {
   "cell_type": "code",
   "execution_count": 3,
   "metadata": {},
   "outputs": [],
   "source": [
    "model = YOLO(MODEL_WEIGHTS_PATH) # \"yolov8m.pt\")\n",
    "\n",
    "# model.load_state_dict(torch.load(MODEL_WEIGHTS_PATH))"
   ]
  },
  {
   "cell_type": "code",
   "execution_count": 16,
   "metadata": {},
   "outputs": [
    {
     "name": "stdout",
     "output_type": "stream",
     "text": [
      "\n",
      "0: 640x640 1 class_0, 4247.0ms\n",
      "Speed: 10.0ms preprocess, 4247.0ms inference, 2.0ms postprocess per image at shape (1, 3, 640, 640)\n",
      "Results saved to \u001b[1mc:\\Projects\\AgriTechiesHackzion\\runs\\detect\\predict6\u001b[0m\n"
     ]
    }
   ],
   "source": [
    "import matplotlib.pyplot as plt\n",
    "import cv2\n",
    "\n",
    "img = cv2.imread(\"../data/appletree2.jpg\") # cv2.imread(\"../data/ripe_unripe_tree_square.jpg\")\n",
    "\n",
    "img = cv2.resize(img, (256, 256))\n",
    "\n",
    "\n",
    "# Predict the bounding box coordinates\n",
    "results = model.predict(img, save=True) # [728:728+512, 728:728+512, :]\n",
    "\n",
    "\n",
    "#         head = img[y1:y2, x1:x2]\n",
    "#         head = cv2.cvtColor(head, cv2.COLOR_BGR2RGB)\n",
    "#         plt.imshow(head)\n",
    "#         plt.show()"
   ]
  },
  {
   "cell_type": "code",
   "execution_count": 17,
   "metadata": {},
   "outputs": [],
   "source": [
    "for r in results:\n",
    "  for box in r.boxes:    \n",
    "    if float(box.conf) > 0.3:\n",
    "      cx, cy, w, h = map(float, box.xywh[0])\n",
    "      x1 = cx - 0.5 * w\n",
    "      y1 = cy - 0.5 * h\n",
    "      x2 = cx + 0.5 * w\n",
    "      y2 = cy + 0.5 * h\n",
    "\n",
    "      head = img[int(y1):int(y2), int(x1):int(x2)]\n",
    "      head = cv2.cvtColor(head, cv2.COLOR_BGR2RGB)\n",
    "      plt.imshow(head)\n",
    "      plt.show()\n"
   ]
  }
 ],
 "metadata": {
  "kernelspec": {
   "display_name": ".venv",
   "language": "python",
   "name": "python3"
  },
  "language_info": {
   "codemirror_mode": {
    "name": "ipython",
    "version": 3
   },
   "file_extension": ".py",
   "mimetype": "text/x-python",
   "name": "python",
   "nbconvert_exporter": "python",
   "pygments_lexer": "ipython3",
   "version": "3.11.7"
  }
 },
 "nbformat": 4,
 "nbformat_minor": 2
}
