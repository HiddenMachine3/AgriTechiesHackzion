{
 "cells": [
  {
   "cell_type": "code",
   "execution_count": null,
   "metadata": {},
   "outputs": [],
   "source": [
    "import tensorflow as tf\n",
    "import numpy as np\n",
    "import os"
   ]
  },
  {
   "cell_type": "code",
   "execution_count": 1,
   "metadata": {},
   "outputs": [
    {
     "name": "stdout",
     "output_type": "stream",
     "text": [
      "Collecting selenium==4.16.0\n",
      "  Using cached selenium-4.16.0-py3-none-any.whl.metadata (6.9 kB)\n",
      "Requirement already satisfied: urllib3<3,>=1.26 in c:\\projects\\agritechieshackzion\\.venv\\lib\\site-packages (from urllib3[socks]<3,>=1.26->selenium==4.16.0) (2.1.0)\n",
      "Collecting trio~=0.17 (from selenium==4.16.0)\n",
      "  Downloading trio-0.23.2-py3-none-any.whl.metadata (4.9 kB)\n",
      "Collecting trio-websocket~=0.9 (from selenium==4.16.0)\n",
      "  Downloading trio_websocket-0.11.1-py3-none-any.whl.metadata (4.7 kB)\n",
      "Requirement already satisfied: certifi>=2021.10.8 in c:\\projects\\agritechieshackzion\\.venv\\lib\\site-packages (from selenium==4.16.0) (2023.11.17)\n",
      "Requirement already satisfied: attrs>=20.1.0 in c:\\projects\\agritechieshackzion\\.venv\\lib\\site-packages (from trio~=0.17->selenium==4.16.0) (23.1.0)\n",
      "Collecting sortedcontainers (from trio~=0.17->selenium==4.16.0)\n",
      "  Using cached sortedcontainers-2.4.0-py2.py3-none-any.whl (29 kB)\n",
      "Requirement already satisfied: idna in c:\\projects\\agritechieshackzion\\.venv\\lib\\site-packages (from trio~=0.17->selenium==4.16.0) (3.6)\n",
      "Collecting outcome (from trio~=0.17->selenium==4.16.0)\n",
      "  Using cached outcome-1.3.0.post0-py2.py3-none-any.whl.metadata (2.6 kB)\n",
      "Requirement already satisfied: sniffio>=1.3.0 in c:\\projects\\agritechieshackzion\\.venv\\lib\\site-packages (from trio~=0.17->selenium==4.16.0) (1.3.0)\n",
      "Collecting cffi>=1.14 (from trio~=0.17->selenium==4.16.0)\n",
      "  Downloading cffi-1.16.0-cp311-cp311-win_amd64.whl.metadata (1.5 kB)\n",
      "Collecting wsproto>=0.14 (from trio-websocket~=0.9->selenium==4.16.0)\n",
      "  Downloading wsproto-1.2.0-py3-none-any.whl (24 kB)\n",
      "Collecting pysocks!=1.5.7,<2.0,>=1.5.6 (from urllib3[socks]<3,>=1.26->selenium==4.16.0)\n",
      "  Using cached PySocks-1.7.1-py3-none-any.whl (16 kB)\n",
      "Collecting pycparser (from cffi>=1.14->trio~=0.17->selenium==4.16.0)\n",
      "  Downloading pycparser-2.21-py2.py3-none-any.whl (118 kB)\n",
      "     ---------------------------------------- 0.0/118.7 kB ? eta -:--:--\n",
      "     ---------- ---------------------------- 30.7/118.7 kB 1.3 MB/s eta 0:00:01\n",
      "     ------------------------- ----------- 81.9/118.7 kB 919.0 kB/s eta 0:00:01\n",
      "     ------------------------------------ 118.7/118.7 kB 986.0 kB/s eta 0:00:00\n",
      "Requirement already satisfied: h11<1,>=0.9.0 in c:\\projects\\agritechieshackzion\\.venv\\lib\\site-packages (from wsproto>=0.14->trio-websocket~=0.9->selenium==4.16.0) (0.14.0)\n",
      "Downloading selenium-4.16.0-py3-none-any.whl (10.0 MB)\n",
      "   ---------------------------------------- 0.0/10.0 MB ? eta -:--:--\n",
      "   ---------------------------------------- 0.1/10.0 MB 3.3 MB/s eta 0:00:03\n",
      "    --------------------------------------- 0.2/10.0 MB 1.8 MB/s eta 0:00:06\n",
      "   - -------------------------------------- 0.3/10.0 MB 2.3 MB/s eta 0:00:05\n",
      "   - -------------------------------------- 0.4/10.0 MB 2.3 MB/s eta 0:00:05\n",
      "   -- ------------------------------------- 0.5/10.0 MB 2.5 MB/s eta 0:00:04\n",
      "   -- ------------------------------------- 0.6/10.0 MB 2.4 MB/s eta 0:00:04\n",
      "   --- ------------------------------------ 0.8/10.0 MB 2.5 MB/s eta 0:00:04\n",
      "   --- ------------------------------------ 0.9/10.0 MB 2.5 MB/s eta 0:00:04\n",
      "   ---- ----------------------------------- 1.1/10.0 MB 2.7 MB/s eta 0:00:04\n",
      "   ---- ----------------------------------- 1.2/10.0 MB 2.7 MB/s eta 0:00:04\n",
      "   ----- ---------------------------------- 1.3/10.0 MB 2.8 MB/s eta 0:00:04\n",
      "   ----- ---------------------------------- 1.4/10.0 MB 2.5 MB/s eta 0:00:04\n",
      "   ----- ---------------------------------- 1.5/10.0 MB 2.6 MB/s eta 0:00:04\n",
      "   ------ --------------------------------- 1.6/10.0 MB 2.4 MB/s eta 0:00:04\n",
      "   ------ --------------------------------- 1.7/10.0 MB 2.5 MB/s eta 0:00:04\n",
      "   ------- -------------------------------- 1.8/10.0 MB 2.5 MB/s eta 0:00:04\n",
      "   -------- ------------------------------- 2.1/10.0 MB 2.6 MB/s eta 0:00:04\n",
      "   -------- ------------------------------- 2.2/10.0 MB 2.7 MB/s eta 0:00:03\n",
      "   -------- ------------------------------- 2.2/10.0 MB 2.7 MB/s eta 0:00:03\n",
      "   -------- ------------------------------- 2.2/10.0 MB 2.4 MB/s eta 0:00:04\n",
      "   ---------- ----------------------------- 2.5/10.0 MB 2.6 MB/s eta 0:00:03\n",
      "   ---------- ----------------------------- 2.6/10.0 MB 2.5 MB/s eta 0:00:03\n",
      "   ---------- ----------------------------- 2.7/10.0 MB 2.6 MB/s eta 0:00:03\n",
      "   ----------- ---------------------------- 2.9/10.0 MB 2.7 MB/s eta 0:00:03\n",
      "   ------------ --------------------------- 3.0/10.0 MB 2.6 MB/s eta 0:00:03\n",
      "   ------------ --------------------------- 3.0/10.0 MB 2.5 MB/s eta 0:00:03\n",
      "   ------------ --------------------------- 3.0/10.0 MB 2.5 MB/s eta 0:00:03\n",
      "   ------------- -------------------------- 3.3/10.0 MB 2.5 MB/s eta 0:00:03\n",
      "   ------------- -------------------------- 3.4/10.0 MB 2.5 MB/s eta 0:00:03\n",
      "   -------------- ------------------------- 3.7/10.0 MB 2.6 MB/s eta 0:00:03\n",
      "   --------------- ------------------------ 3.9/10.0 MB 2.7 MB/s eta 0:00:03\n",
      "   ---------------- ----------------------- 4.1/10.0 MB 2.8 MB/s eta 0:00:03\n",
      "   ----------------- ---------------------- 4.3/10.0 MB 2.8 MB/s eta 0:00:03\n",
      "   ------------------ --------------------- 4.6/10.0 MB 2.8 MB/s eta 0:00:02\n",
      "   ------------------- -------------------- 4.9/10.0 MB 2.9 MB/s eta 0:00:02\n",
      "   -------------------- ------------------- 5.2/10.0 MB 3.0 MB/s eta 0:00:02\n",
      "   --------------------- ------------------ 5.4/10.0 MB 3.0 MB/s eta 0:00:02\n",
      "   ---------------------- ----------------- 5.7/10.0 MB 3.0 MB/s eta 0:00:02\n",
      "   ----------------------- ---------------- 5.9/10.0 MB 3.0 MB/s eta 0:00:02\n",
      "   ------------------------ --------------- 6.0/10.0 MB 3.1 MB/s eta 0:00:02\n",
      "   ------------------------ --------------- 6.1/10.0 MB 3.0 MB/s eta 0:00:02\n",
      "   ------------------------- -------------- 6.4/10.0 MB 3.1 MB/s eta 0:00:02\n",
      "   -------------------------- ------------- 6.5/10.0 MB 3.0 MB/s eta 0:00:02\n",
      "   -------------------------- ------------- 6.7/10.0 MB 3.1 MB/s eta 0:00:02\n",
      "   --------------------------- ------------ 6.8/10.0 MB 3.0 MB/s eta 0:00:02\n",
      "   --------------------------- ------------ 7.0/10.0 MB 3.0 MB/s eta 0:00:01\n",
      "   ---------------------------- ----------- 7.0/10.0 MB 3.0 MB/s eta 0:00:01\n",
      "   ---------------------------- ----------- 7.1/10.0 MB 3.0 MB/s eta 0:00:01\n",
      "   ---------------------------- ----------- 7.2/10.0 MB 3.0 MB/s eta 0:00:01\n",
      "   ----------------------------- ---------- 7.3/10.0 MB 2.9 MB/s eta 0:00:01\n",
      "   ------------------------------ --------- 7.5/10.0 MB 2.9 MB/s eta 0:00:01\n",
      "   ------------------------------- -------- 7.8/10.0 MB 3.0 MB/s eta 0:00:01\n",
      "   -------------------------------- ------- 8.0/10.0 MB 3.0 MB/s eta 0:00:01\n",
      "   --------------------------------- ------ 8.3/10.0 MB 3.1 MB/s eta 0:00:01\n",
      "   ---------------------------------- ----- 8.7/10.0 MB 3.1 MB/s eta 0:00:01\n",
      "   ----------------------------------- ---- 8.9/10.0 MB 3.1 MB/s eta 0:00:01\n",
      "   ------------------------------------ --- 9.1/10.0 MB 3.1 MB/s eta 0:00:01\n",
      "   ------------------------------------ --- 9.1/10.0 MB 3.1 MB/s eta 0:00:01\n",
      "   ------------------------------------- -- 9.2/10.0 MB 3.1 MB/s eta 0:00:01\n",
      "   ------------------------------------- -- 9.3/10.0 MB 3.1 MB/s eta 0:00:01\n",
      "   ------------------------------------- -- 9.3/10.0 MB 3.1 MB/s eta 0:00:01\n",
      "   ------------------------------------- -- 9.4/10.0 MB 3.0 MB/s eta 0:00:01\n",
      "   -------------------------------------- - 9.6/10.0 MB 3.0 MB/s eta 0:00:01\n",
      "   ---------------------------------------  9.7/10.0 MB 3.0 MB/s eta 0:00:01\n",
      "   ---------------------------------------  9.9/10.0 MB 3.0 MB/s eta 0:00:01\n",
      "   ---------------------------------------  10.0/10.0 MB 2.9 MB/s eta 0:00:01\n",
      "   ---------------------------------------- 10.0/10.0 MB 2.9 MB/s eta 0:00:00\n",
      "Downloading trio-0.23.2-py3-none-any.whl (461 kB)\n",
      "   ---------------------------------------- 0.0/461.6 kB ? eta -:--:--\n",
      "   --------------- ------------------------ 174.1/461.6 kB 5.3 MB/s eta 0:00:01\n",
      "   ---------------------------- ----------- 327.7/461.6 kB 4.1 MB/s eta 0:00:01\n",
      "   ---------------------------------------  460.8/461.6 kB 3.6 MB/s eta 0:00:01\n",
      "   ---------------------------------------- 461.6/461.6 kB 2.9 MB/s eta 0:00:00\n",
      "Downloading trio_websocket-0.11.1-py3-none-any.whl (17 kB)\n",
      "Downloading cffi-1.16.0-cp311-cp311-win_amd64.whl (181 kB)\n",
      "   ---------------------------------------- 0.0/181.5 kB ? eta -:--:--\n",
      "   -------------------------------------- - 174.1/181.5 kB 5.3 MB/s eta 0:00:01\n",
      "   ---------------------------------------- 181.5/181.5 kB 3.6 MB/s eta 0:00:00\n",
      "Downloading outcome-1.3.0.post0-py2.py3-none-any.whl (10 kB)\n",
      "Installing collected packages: sortedcontainers, wsproto, pysocks, pycparser, outcome, cffi, trio, trio-websocket, selenium\n",
      "Successfully installed cffi-1.16.0 outcome-1.3.0.post0 pycparser-2.21 pysocks-1.7.1 selenium-4.16.0 sortedcontainers-2.4.0 trio-0.23.2 trio-websocket-0.11.1 wsproto-1.2.0\n",
      "Note: you may need to restart the kernel to use updated packages.\n"
     ]
    }
   ],
   "source": [
    "%pip install selenium==4.16.0"
   ]
  },
  {
   "cell_type": "code",
   "execution_count": 2,
   "metadata": {},
   "outputs": [
    {
     "name": "stdout",
     "output_type": "stream",
     "text": [
      "Note: you may need to restart the kernel to use updated packages.\n"
     ]
    }
   ],
   "source": [
    "%pip freeze > C:/Projects/AgriTechiesHackzion/requirements.txt"
   ]
  }
 ],
 "metadata": {
  "kernelspec": {
   "display_name": ".venv",
   "language": "python",
   "name": "python3"
  },
  "language_info": {
   "codemirror_mode": {
    "name": "ipython",
    "version": 3
   },
   "file_extension": ".py",
   "mimetype": "text/x-python",
   "name": "python",
   "nbconvert_exporter": "python",
   "pygments_lexer": "ipython3",
   "version": "3.11.6"
  }
 },
 "nbformat": 4,
 "nbformat_minor": 2
}
