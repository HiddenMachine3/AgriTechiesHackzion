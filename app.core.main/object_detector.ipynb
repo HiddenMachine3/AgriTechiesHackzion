{
 "cells": [
  {
   "cell_type": "code",
   "execution_count": null,
   "metadata": {},
   "outputs": [],
   "source": [
    "import ultralytics import YOLO\n",
    "model = YOLO(\"yolov8m.pt\")\n",
    "\n",
    "import matplotlib.pyplot as plt\n",
    "import cv2\n",
    "\n",
    "img = cv2.imread(\"/content/drive/MyDrive/add256-main/test/images/apple-tree1.jpeg\")\n",
    "\n",
    "# Predict the bounding box coordinates\n",
    "results = model.predict(img)\n",
    "\n",
    "# Crop the image using OpenCV\n",
    "for r in results:\n",
    "    for box in r.boxes:\n",
    "        x1, y1, x2, y2 = box.xyxy\n",
    "        head = img[y1:y2, x1:x2]\n",
    "        head = cv2.cvtColor(head, cv2.COLOR_BGR2RGB)\n",
    "        plt.imshow(head)\n",
    "        plt.show()"
   ]
  }
 ],
 "metadata": {
  "language_info": {
   "name": "python"
  }
 },
 "nbformat": 4,
 "nbformat_minor": 2
}
